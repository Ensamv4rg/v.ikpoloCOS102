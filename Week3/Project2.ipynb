{
 "cells": [
  {
   "cell_type": "code",
   "execution_count": 2,
   "id": "1c549c5a-a4ed-4f1f-9bc0-557cbc0f71f2",
   "metadata": {},
   "outputs": [],
   "source": [
    "def salary_determiner(age, years_of_experience):\n",
    "    if age >= 55 and years_of_experience > 25:\n",
    "        atr = 5_600_000\n",
    "    elif age >= 45 and years_of_experience >20:\n",
    "        atr = 4_480_000\n",
    "    elif age >= 35 and years_of_experience > 10:\n",
    "        atr = 1_500_000\n",
    "    else:\n",
    "        atr = 550_000\n",
    "    return atr"
   ]
  },
  {
   "cell_type": "code",
   "execution_count": null,
   "id": "8d718666-7b2e-4e05-a3a5-2747f40d60ee",
   "metadata": {},
   "outputs": [],
   "source": [
    "def main():\n",
    "    number"
   ]
  }
 ],
 "metadata": {
  "kernelspec": {
   "display_name": "Python 3 (ipykernel)",
   "language": "python",
   "name": "python3"
  },
  "language_info": {
   "codemirror_mode": {
    "name": "ipython",
    "version": 3
   },
   "file_extension": ".py",
   "mimetype": "text/x-python",
   "name": "python",
   "nbconvert_exporter": "python",
   "pygments_lexer": "ipython3",
   "version": "3.11.7"
  }
 },
 "nbformat": 4,
 "nbformat_minor": 5
}
