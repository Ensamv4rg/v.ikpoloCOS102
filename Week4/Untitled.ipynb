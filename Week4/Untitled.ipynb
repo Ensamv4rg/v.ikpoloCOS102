{
 "cells": [
  {
   "cell_type": "code",
   "execution_count": 46,
   "id": "399de869-0b71-4983-8b9f-47a4ef766328",
   "metadata": {},
   "outputs": [],
   "source": [
    "#configurations\n",
    "import tkinter as tk\n",
    "from tkinter import messagebox as msgbox\n",
    "from PIL import Image, ImageTk\n",
    "import csv\n",
    "import tabulate\n",
    "from tabulate import tabulate"
   ]
  },
  {
   "cell_type": "code",
   "execution_count": 80,
   "id": "96dae8c4-bb30-4793-9817-ce61d6e8b945",
   "metadata": {},
   "outputs": [],
   "source": [
    "def displayinfo(firstname,surname,department):\n",
    "    employees = [[]]\n",
    "    with open('GIG-logistics.csv', 'r') as data:\n",
    "        for line in csv.DictReader(data):\n",
    "            if line['DEPARTMENT'].lower() == department.lower():\n",
    "                employees.append([ line['SURNAME'] , line['FIRST NAME']])\n",
    "    col_names = [\"SURNAME\", \"FIRSTNAME\"]\n",
    "    info = tabulate(employees, headers=col_names, tablefmt=\"fancy_grid\", showindex=\"always\")\n",
    "\n",
    "    window = tk.Toplevel(root)\n",
    "    window.title(f\"{department} Employee List\")\n",
    "    window.geometry('1000x500')\n",
    "    label_1 = tk.Label(window, text=f\"Welcome {firstname} {surname}\")\n",
    "    label_1.pack()\n",
    "    T = tk.Text(window) \n",
    "    T.insert(tk.END, info)  \n",
    "    T.pack()\n",
    "\n",
    "\n",
    "    \n",
    "    \n",
    "            \n",
    "    "
   ]
  },
  {
   "cell_type": "code",
   "execution_count": 83,
   "id": "6d4be40b-3bfd-47db-bc78-8ae299bfa37b",
   "metadata": {},
   "outputs": [],
   "source": [
    "def submit():\n",
    "     firstname = firstname_entry.get()\n",
    "     lastname = lastname_entry.get()\n",
    "     department = department_entry.get()\n",
    "     is_present = False\n",
    "     with open('GIG-logistics.csv', 'r') as data:\n",
    "         for line in csv.DictReader(data):\n",
    "             if line['SURNAME'] == lastname.upper() and line['FIRST NAME'].lower() == firstname.lower() and line['DEPARTMENT'].lower() == department.lower():\n",
    "                 is_present = True\n",
    "                 break\n",
    "\n",
    "     if is_present:\n",
    "         displayinfo(firstname,lastname,department)\n",
    "     else:\n",
    "         msgbox.showerror(\"Employee Status\", f\"Sorry, {lastname} {firstname} is not an employee in the {department} department \")\n",
    "         "
   ]
  },
  {
   "cell_type": "code",
   "execution_count": 84,
   "id": "9f7ff9d2-7ede-4149-be4b-4813a064eb1c",
   "metadata": {},
   "outputs": [],
   "source": [
    "root = tk.Tk()\n",
    "root.title(\"Usercheck\")\n",
    "root.geometry(\"500x200\")\n",
    "\n",
    "firstname_label = tk.Label(root, text= \"First Name\")\n",
    "firstname_label.pack()\n",
    "firstname_entry = tk.Entry(root)\n",
    "firstname_entry.pack()\n",
    "\n",
    "lastname_label = tk.Label(root, text= \"Last Name\")\n",
    "lastname_label.pack()\n",
    "lastname_entry = tk.Entry(root)\n",
    "lastname_entry.pack()\n",
    "\n",
    "department_label = tk.Label(root, text= \"Department\")\n",
    "department_label.pack()\n",
    "department_entry = tk.Entry(root)\n",
    "department_entry.pack()\n",
    "\n",
    "submit_button = tk.Button(root,text = \"Check\",command = submit)\n",
    "submit_button.pack()\n",
    "root.mainloop()\n"
   ]
  },
  {
   "cell_type": "code",
   "execution_count": null,
   "id": "7621659b-d780-43ea-8dbc-f9d4d09f84f4",
   "metadata": {},
   "outputs": [],
   "source": []
  }
 ],
 "metadata": {
  "kernelspec": {
   "display_name": "Python 3 (ipykernel)",
   "language": "python",
   "name": "python3"
  },
  "language_info": {
   "codemirror_mode": {
    "name": "ipython",
    "version": 3
   },
   "file_extension": ".py",
   "mimetype": "text/x-python",
   "name": "python",
   "nbconvert_exporter": "python",
   "pygments_lexer": "ipython3",
   "version": "3.11.7"
  }
 },
 "nbformat": 4,
 "nbformat_minor": 5
}
