{
 "cells": [
  {
   "cell_type": "code",
   "execution_count": 1,
   "id": "7c36f7d4-48e0-4706-afe6-b9fcaa5ffee4",
   "metadata": {},
   "outputs": [
    {
     "name": "stdout",
     "output_type": "stream",
     "text": [
      "I'm first calling the user defined function!\n",
      "Again second call to the same function\n"
     ]
    }
   ],
   "source": [
    "def printme(str):\n",
    "    print(str);\n",
    "    return;\n",
    "\n",
    "printme(\"I'm first calling the user defined function!\")\n",
    "printme(\"Again second call to the same function\")"
   ]
  },
  {
   "cell_type": "code",
   "execution_count": 2,
   "id": "19245bd3-5dd8-40d3-ae0d-969745c24025",
   "metadata": {},
   "outputs": [
    {
     "name": "stdout",
     "output_type": "stream",
     "text": [
      "Values inside the function:  [10, 20, 30, [1, 2, 3, 4]]\n",
      "Values outside the function  [10, 20, 30, [1, 2, 3, 4]]\n"
     ]
    }
   ],
   "source": [
    "def changeme(mylist):\n",
    "    mylist.append([1,2,3,4])\n",
    "    print(\"Values inside the function: \", mylist)\n",
    "    return\n",
    "\n",
    "mylist = [10,20,30]\n",
    "changeme(mylist)\n",
    "print(\"Values outside the function \", mylist)\n"
   ]
  },
  {
   "cell_type": "code",
   "execution_count": 4,
   "id": "67359dc4-f338-4db5-8464-64a35d959708",
   "metadata": {},
   "outputs": [
    {
     "name": "stdout",
     "output_type": "stream",
     "text": [
      "Values inside the function:  [1, 2, 3, 4]\n",
      "Values outside the function:  [10, 20, 30]\n"
     ]
    }
   ],
   "source": [
    "def changeme(mylist):\n",
    "    mylist = [1,2,3,4]\n",
    "    print(\"Values inside the function: \", mylist)\n",
    "    return\n",
    "\n",
    "mylist = [10,20,30];\n",
    "changeme(mylist);\n",
    "print(\"Values outside the function: \", mylist)"
   ]
  },
  {
   "cell_type": "code",
   "execution_count": 5,
   "id": "5d36ce69-56ea-4b82-b33e-5d8ce02ca5d9",
   "metadata": {},
   "outputs": [
    {
     "ename": "TypeError",
     "evalue": "printme() missing 1 required positional argument: 'str'",
     "output_type": "error",
     "traceback": [
      "\u001b[1;31m---------------------------------------------------------------------------\u001b[0m",
      "\u001b[1;31mTypeError\u001b[0m                                 Traceback (most recent call last)",
      "Cell \u001b[1;32mIn[5], line 5\u001b[0m\n\u001b[0;32m      2\u001b[0m     \u001b[38;5;28mprint\u001b[39m(\u001b[38;5;28mstr\u001b[39m)\n\u001b[0;32m      3\u001b[0m     \u001b[38;5;28;01mreturn\u001b[39;00m\n\u001b[1;32m----> 5\u001b[0m printme()\n",
      "\u001b[1;31mTypeError\u001b[0m: printme() missing 1 required positional argument: 'str'"
     ]
    }
   ],
   "source": [
    "def printme(str):\n",
    "    print(str)\n",
    "    return\n",
    "\n",
    "printme()"
   ]
  },
  {
   "cell_type": "code",
   "execution_count": 6,
   "id": "8ad43f09-a995-49fa-99f7-a5ca4982462f",
   "metadata": {},
   "outputs": [
    {
     "name": "stdout",
     "output_type": "stream",
     "text": [
      "My String\n"
     ]
    }
   ],
   "source": [
    "def printme(str):\n",
    "    print(str)\n",
    "    return;\n",
    "\n",
    "printme(str = \"My String\")"
   ]
  },
  {
   "cell_type": "code",
   "execution_count": 7,
   "id": "30d9d0a9-b13b-47b4-b297-48c69658e5a1",
   "metadata": {},
   "outputs": [
    {
     "name": "stdout",
     "output_type": "stream",
     "text": [
      "Name:  Miki\n",
      "Age: 50\n"
     ]
    }
   ],
   "source": [
    "def printinfo(name, age):\n",
    "    print(\"Name: \", name)\n",
    "    print(\"Age:\", age)\n",
    "    return;\n",
    "\n",
    "printinfo(age =50, name = \"Miki\");"
   ]
  },
  {
   "cell_type": "code",
   "execution_count": 8,
   "id": "d51e9e5f-40a9-468b-8606-bc1cc09b3447",
   "metadata": {},
   "outputs": [
    {
     "name": "stdout",
     "output_type": "stream",
     "text": [
      "Name:  Miki\n",
      "Age:  50\n",
      "Name:  Miki\n",
      "Age:  35\n"
     ]
    }
   ],
   "source": [
    "def printinfo(name, age = 35):\n",
    "    print(\"Name: \", name)\n",
    "    print(\"Age: \", age)\n",
    "    return\n",
    "\n",
    "printinfo(age = 50, name = \"Miki\")\n",
    "printinfo(name = \"Miki\")"
   ]
  },
  {
   "cell_type": "code",
   "execution_count": 9,
   "id": "1bb887b8-f40d-4d80-82fb-35ee48baf8bc",
   "metadata": {},
   "outputs": [
    {
     "name": "stdout",
     "output_type": "stream",
     "text": [
      "Output is: \n",
      "10\n",
      "Output is: \n",
      "70\n",
      "60\n"
     ]
    }
   ],
   "source": [
    "def printinfo(arg1, *vartuple ):\n",
    "    print(\"Output is: \")\n",
    "    print(arg1)\n",
    "    for var in vartuple:\n",
    "        print(var)\n",
    "        return;\n",
    "\n",
    "printinfo(10);\n",
    "printinfo(70,60,50)"
   ]
  },
  {
   "cell_type": "code",
   "execution_count": 10,
   "id": "7c8e1067-f814-4877-baf2-ef3043cdf04f",
   "metadata": {},
   "outputs": [
    {
     "name": "stdout",
     "output_type": "stream",
     "text": [
      "Inside the function local total:  30\n",
      "Outside the function global total 50\n"
     ]
    }
   ],
   "source": [
    "total = 50;\n",
    "def sum(arg1 , arg2):\n",
    "    total = arg1 + arg2;\n",
    "    print(\"Inside the function local total: \", total)\n",
    "    return total;\n",
    "\n",
    "sum(10,20);\n",
    "print(\"Outside the function global total\", total)"
   ]
  },
  {
   "cell_type": "code",
   "execution_count": 13,
   "id": "7c024547-0147-4212-88cd-cbaf8df1b664",
   "metadata": {},
   "outputs": [
    {
     "name": "stdout",
     "output_type": "stream",
     "text": [
      "Lawal Edward Tolu Tina\n",
      "Mary\n"
     ]
    }
   ],
   "source": [
    "def swap(x,y):\n",
    "    global a\n",
    "    a = \"Lawal\"\n",
    "    x,y = y,x\n",
    "    b = \"Chris\"\n",
    "    b = \"Edward\"\n",
    "    c = \"Lola\"\n",
    "    print(a,b,x,y)\n",
    "    a = \"Mary\"\n",
    "\n",
    "swap(\"Tina\", \"Tolu\")\n",
    "print(a)\n"
   ]
  },
  {
   "cell_type": "code",
   "execution_count": 5,
   "id": "630eb252-cbcf-4a3a-9c94-2939b3fb33ba",
   "metadata": {},
   "outputs": [],
   "source": [
    "import tkinter as tk\n",
    "from tkinter import messagebox as msgbox\n",
    "\n",
    "def button_click():\n",
    "    msgbox.showinfo(\"Info\", \"Welcome to COS102 GUI APP!\\n\")\n",
    "    result = msgbox.askyesno(\"Confirmation\", \"Do you want to continue?\")\n",
    "\n",
    "root = tk.Tk()\n",
    "root.title(\"Home Page\")\n",
    "root.geometry(\"300x100\")\n",
    "\n",
    "label = tk.Label(root, text = \"Hello Friend \\n\")\n",
    "label.pack()\n",
    "\n",
    "button = tk.Button(root, text = \"Click Me!\", command = button_click)\n",
    "button.pack()\n",
    "\n",
    "button.config(fg = \"red\", bg = \"yellow\")\n",
    "\n",
    "root.mainloop()"
   ]
  },
  {
   "cell_type": "code",
   "execution_count": 2,
   "id": "5d9889a5-a946-41e5-a74b-a7beaf4bd38b",
   "metadata": {},
   "outputs": [],
   "source": [
    "import tkinter as tk\n",
    "from PIL import Image, ImageTk\n",
    "\n",
    "def welcomeMessage(username):\n",
    "    window = tk.Toplevel(root)\n",
    "    window.title(\"Admin Box\")\n",
    "    window.geometry(\"500x200\")\n",
    "\n",
    "    label_1 = tk.Label(window , text = f\"Welcome {username}\\n\")\n",
    "    label_1.pack()\n",
    "    label_2 = tk.Label(window, text = \"This is Phyton GUI with Tkinkter\")\n",
    "    label_2.pack()\n",
    "\n",
    "    root.mainloop()\n",
    "\n",
    "def submit():\n",
    "    username = username_entry.get()\n",
    "    password = password_entry.get()\n",
    "\n",
    "    if username == \"Mary\" and password == \"cos102\":\n",
    "        welcomeMessage(username)\n",
    "    else:\n",
    "        msgbox.showerror(\"Login\", \"Invalid username or password\")\n",
    "\n",
    "root = tk.Tk()\n",
    "root.title(\"Login Form\")\n",
    "root.geometry(\"500x200\")\n",
    "\n",
    "username_label = tk.Label(root, text = \"Username:\")\n",
    "username_label.pack()\n",
    "\n",
    "\n",
    "username_entry = tk.Entry(root)\n",
    "username_entry.pack()\n",
    "\n",
    "password_label = tk.Label(root, text = \"Password:\")\n",
    "password_label.pack()\n",
    "password_entry = tk.Entry(root,show= \"*\")\n",
    "password_entry.pack()\n",
    "\n",
    "submit_button = tk.Button(root, text=\"Submit\",command = submit)\n",
    "submit_button.pack()\n",
    "\n",
    "root.mainloop()\n",
    "\n"
   ]
  }
 ],
 "metadata": {
  "kernelspec": {
   "display_name": "Python 3 (ipykernel)",
   "language": "python",
   "name": "python3"
  },
  "language_info": {
   "codemirror_mode": {
    "name": "ipython",
    "version": 3
   },
   "file_extension": ".py",
   "mimetype": "text/x-python",
   "name": "python",
   "nbconvert_exporter": "python",
   "pygments_lexer": "ipython3",
   "version": "3.11.7"
  }
 },
 "nbformat": 4,
 "nbformat_minor": 5
}
