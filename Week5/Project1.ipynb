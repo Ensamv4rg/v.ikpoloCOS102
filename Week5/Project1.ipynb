{
 "cells": [
  {
   "cell_type": "code",
   "execution_count": 125,
   "id": "c1a019c5-bf24-47ba-a3f6-f288f043f516",
   "metadata": {},
   "outputs": [],
   "source": [
    "import tkinter as tk\n",
    "from tkinter import *\n",
    "from tkinter import messagebox as msgbox\n",
    "\n",
    "\n",
    "def main():\n",
    "    \n",
    "    root =tk.Tk()\n",
    "    root.title(\"Simi Services\")\n",
    "    root.geometry(\"500x200\")\n",
    "\n",
    "    weight_label = tk.Label(root, text = \"Please Enter your package weight in kilograms:\")\n",
    "    weight_label.pack()\n",
    "    weight_entry = tk.Entry(root, text = \"Weight\")\n",
    "    weight_entry.pack()\n",
    "\n",
    "    location = StringVar(root)\n",
    "    available_locations = [\"Ibeju Lekki\", \"Epe\"]\n",
    "    location.set(\"Epe\")\n",
    "    \n",
    "    location_label = tk.Label(root, text = \"Select your delivery location\")\n",
    "    location_label.pack()\n",
    "    menu = OptionMenu(root,location, *available_locations)\n",
    "    menu.pack()\n",
    "\n",
    "    submit_button = tk.Button(root,text = \"Check\", command = lambda: price_determiner( location.get(), weight_entry.get() ) )\n",
    "    submit_button.pack()\n",
    "\n",
    "    root.mainloop()\n",
    "    \n",
    "    \n",
    "    "
   ]
  },
  {
   "cell_type": "code",
   "execution_count": 126,
   "id": "f1830e2c-c428-46a9-aee4-61068540e713",
   "metadata": {},
   "outputs": [],
   "source": [
    "def price_determiner(location, weight):\n",
    "    if int(weight) < 10:\n",
    "        if location == \"Epe\":\n",
    "            msgbox.showinfo(\"Cost of Delivery\", \"It'd Cost you N3500\")\n",
    "        else:\n",
    "            msgbox.showinfo(\"Cost of Delivery\", \"It'd Cost you N5000\")\n",
    "    else:\n",
    "        if location == \"Epe\":\n",
    "            msgbox.showinfo(\"Cost of Delivery\", \"It'd Cost you N5000\")\n",
    "        else:\n",
    "            msgbox.showinfo(\"Cost of Delivery\", \"It'd Cost you N10000\")\n",
    "        \n",
    "        \n",
    "    "
   ]
  },
  {
   "cell_type": "code",
   "execution_count": 127,
   "id": "846ba4a9-2c3d-4721-8f47-ebd6be58d12b",
   "metadata": {},
   "outputs": [],
   "source": [
    "main()"
   ]
  },
  {
   "cell_type": "code",
   "execution_count": null,
   "id": "7d232269-0568-48e6-950e-c07b2ad1f73b",
   "metadata": {},
   "outputs": [],
   "source": []
  }
 ],
 "metadata": {
  "kernelspec": {
   "display_name": "Python 3 (ipykernel)",
   "language": "python",
   "name": "python3"
  },
  "language_info": {
   "codemirror_mode": {
    "name": "ipython",
    "version": 3
   },
   "file_extension": ".py",
   "mimetype": "text/x-python",
   "name": "python",
   "nbconvert_exporter": "python",
   "pygments_lexer": "ipython3",
   "version": "3.11.7"
  }
 },
 "nbformat": 4,
 "nbformat_minor": 5
}
