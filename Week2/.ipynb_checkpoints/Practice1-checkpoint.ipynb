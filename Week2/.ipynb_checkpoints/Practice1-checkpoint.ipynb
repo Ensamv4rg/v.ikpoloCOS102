{
 "cells": [
  {
   "cell_type": "code",
   "execution_count": 2,
   "id": "5aebe9c9-8aa9-4d4a-8b86-5e99e82cf312",
   "metadata": {},
   "outputs": [
    {
     "name": "stdin",
     "output_type": "stream",
     "text": [
      "Enter your State of Origin Delta\n"
     ]
    },
    {
     "name": "stdout",
     "output_type": "stream",
     "text": [
      "Your state of origin is:  Delta\n",
      "The first charachter is:  D\n",
      "The charachters starting from 3rd to 5th are:  lta\n",
      "The string starting from the 3rd charachter is:  lta\n",
      "State of origin two times DeltaDelta\n"
     ]
    }
   ],
   "source": [
    "str = input(\"Enter your State of Origin\")\n",
    "\n",
    "print(\"Your state of origin is: \", str)\n",
    "print(\"The first charachter is: \", str[0])\n",
    "print(\"The charachters starting from 3rd to 5th are: \", str[2:5])\n",
    "print(\"The string starting from the 3rd charachter is: \", str[2:])\n",
    "print(\"State of origin two times\", str *2)"
   ]
  },
  {
   "cell_type": "code",
   "execution_count": null,
   "id": "175067e5-8ca0-46e4-b55e-439213be25f5",
   "metadata": {},
   "outputs": [],
   "source": []
  }
 ],
 "metadata": {
  "kernelspec": {
   "display_name": "Python 3 (ipykernel)",
   "language": "python",
   "name": "python3"
  },
  "language_info": {
   "codemirror_mode": {
    "name": "ipython",
    "version": 3
   },
   "file_extension": ".py",
   "mimetype": "text/x-python",
   "name": "python",
   "nbconvert_exporter": "python",
   "pygments_lexer": "ipython3",
   "version": "3.11.7"
  }
 },
 "nbformat": 4,
 "nbformat_minor": 5
}
