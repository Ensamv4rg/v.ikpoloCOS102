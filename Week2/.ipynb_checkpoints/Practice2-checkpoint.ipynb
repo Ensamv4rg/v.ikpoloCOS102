{
 "cells": [
  {
   "cell_type": "code",
   "execution_count": 1,
   "id": "b0829b72-af7f-4039-afbb-97a05f1b3d8c",
   "metadata": {},
   "outputs": [
    {
     "name": "stdin",
     "output_type": "stream",
     "text": [
      "Enter a mass in kilograms:  63\n"
     ]
    },
    {
     "name": "stdout",
     "output_type": "stream",
     "text": [
      "The energy equivalent to 63.0 kg of mass is 5.662157626041951e+18 joules.\n"
     ]
    }
   ],
   "source": [
    "m = float(input(\"Enter a mass in kilograms: \"))\n",
    "c = 299792458\n",
    "energy = m*c **2\n",
    "print(f\"The energy equivalent to {m} kg of mass is {energy} joules.\")"
   ]
  },
  {
   "cell_type": "code",
   "execution_count": null,
   "id": "edf32fce-955a-4db2-bdee-674084f426b9",
   "metadata": {},
   "outputs": [],
   "source": []
  }
 ],
 "metadata": {
  "kernelspec": {
   "display_name": "Python 3 (ipykernel)",
   "language": "python",
   "name": "python3"
  },
  "language_info": {
   "codemirror_mode": {
    "name": "ipython",
    "version": 3
   },
   "file_extension": ".py",
   "mimetype": "text/x-python",
   "name": "python",
   "nbconvert_exporter": "python",
   "pygments_lexer": "ipython3",
   "version": "3.11.7"
  }
 },
 "nbformat": 4,
 "nbformat_minor": 5
}
