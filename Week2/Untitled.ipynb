{
 "cells": [
  {
   "cell_type": "code",
   "execution_count": 137,
   "id": "3ec41982-5be7-4ffa-9739-b8bd5aaa67db",
   "metadata": {},
   "outputs": [],
   "source": [
    "import math\n",
    "import cmath"
   ]
  },
  {
   "cell_type": "code",
   "execution_count": 138,
   "id": "1d415d1a-29ca-446e-b5ba-fbc3e4f171da",
   "metadata": {},
   "outputs": [],
   "source": [
    "def quad(a,b,c):\n",
    "    determinant = b**2 - 4*a*c #computes the determinant\n",
    "    if determinant == 0:\n",
    "        print(f\"The Root of the equation is{ (-b + math.sqrt(determinant)) / (2*a) }\")\n",
    "    elif determinant > 0:\n",
    "        print(f\"The roots of the equation are {(-b + -math.sqrt(determinant)) / (2*a)} and {(-b + math.sqrt(determinant)) / (2*a)}\")\n",
    "    else:\n",
    "        print(f\"The complex roots of the equation are {(-b - cmath.sqrt(determinant)) / (2*a)} and {(-b + cmath.sqrt(determinant)) / (2*a)}\")\n",
    "\n",
    "\n",
    "\n",
    "   "
   ]
  },
  {
   "cell_type": "code",
   "execution_count": 163,
   "id": "1af2b03f-01cf-4e31-865b-af1a3ce842f1",
   "metadata": {},
   "outputs": [],
   "source": [
    "def cubic(a, b, c, d):\n",
    "    y_coefficient = (c - ((b**2) / (3*a))) / a \n",
    "    constant = (d + ((2*(b**3)) / (27*(a**2))) - ((b*c) / (3*a))) / a #computes coeffecients of y^2 and c to use Cardano's method\n",
    "\n",
    "    print(f\"The depressed cubic equation is y^3 + {y_coefficient}y + {constant}\")\n",
    "\n",
    "    t = (constant + math.sqrt( (constant**2) + (4*((y_coefficient**3)/27)) ) ) / 2\n",
    "    s = (-constant + t)**(1/3)\n",
    "    t = t**(1/3)\n",
    "    \n",
    "    real_root = (s - t) - (b/(3*a))#computes the real root  \n",
    "    \n",
    "    quadratic_b = (real_root * a) + b #gets the coeffecient of x of the quadratic equation gotten by dividing the cubic equation by the real root\n",
    "    quadratic_c = ( (real_root**2)* a ) +(b * real_root) + c\n",
    "\n",
    "    print(f\"The real root is {real_root}\")\n",
    "    print(\"and\")\n",
    "    quad(a, quadratic_b, quadratic_c)#solves the quadratic part of the equation\n",
    "\n",
    "\n",
    "\n",
    "    "
   ]
  },
  {
   "cell_type": "code",
   "execution_count": 164,
   "id": "fe5c4db0-d150-4178-a348-cde15f393aae",
   "metadata": {},
   "outputs": [],
   "source": [
    "def quartic(a, b, c, d, e):#refer to 'https://math.stackexchange.com/questions/785/is-there-a-general-formula-for-solving-quartic-degree-4-equations' for more information\n",
    "\n",
    "\n",
    "    p1 = 2*c**3 - 9*b*c*d + 27*a*d**2 + 27*b**2*e - 72*a*c*e\n",
    "    p2 = p1 + math.sqrt(-4*(c**2 - 3*b*d + 12*a*e)**3 + p1**2)\n",
    "    p3 = (c**2 - 3*b*d + 12*a*e) / (3*a**3 * math.sqrt(p2**2)) + 3 * math.sqrt(p2/2) / (3*a)\n",
    "    p4 = (math.sqrt(b**2) / (4*a**2)) - (2*c / (3*a)) + p3\n",
    "    p5 = (b**2 / (2*a**2)) - (4*c / (3*a)) - p3\n",
    "    p6 = (-b**3 / a**3) + (4*b*c / a**2) - (8*d / a) / (4*p4)\n",
    "\n",
    "\n",
    "    x1 = (-b / (4*a)) - (p4 / 2) - math.sqrt(p5 - p6) / 2\n",
    "    x2 = (-b / (4*a)) - (p4 / 2) + math.sqrt(p5 - p6) / 2\n",
    "    x3 = (-b / (4*a)) + (p4 / 2) - math.sqrt(p5 + p6) / 2\n",
    "    x4 = (-b / (4*a)) + (p4 / 2) + math.sqrt(p5 + p6) / 2\n",
    "\n",
    "    print(\"x1 =\", x1)\n",
    "    print(\"x2 =\", x2)\n",
    "    print(\"x3 =\", x3)\n",
    "    print(\"x4 =\", x4)\n",
    "\n",
    "                            \n",
    "    \n",
    "    "
   ]
  },
  {
   "cell_type": "code",
   "execution_count": 167,
   "id": "ee6e9a5a-4cf4-4d52-a6af-b3a932cd468c",
   "metadata": {},
   "outputs": [],
   "source": [
    "def main():\n",
    "    response = int(input(\"What's the degree of the polynomial you wish to solve(2,3 or 4)\"))\n",
    "    \n",
    "    if response < 2 or response > 4: #calculator only supports quadratic, cubic and quartic equations\n",
    "        print(\"Unsuported calculation\")\n",
    "        main()\n",
    "    \n",
    "    a = float(input(\"Enter value of a\"))\n",
    "    b = float(input(\"Enter value of b\"))\n",
    "    c = float(input(\"Enter value of c\"))\n",
    "    \n",
    "   \n",
    "    if response == 2:#calls the function to calculate a quadratic formula\n",
    "        quad(a,b,c)\n",
    "    else:\n",
    "        d = float(input(\"Enter Value of d\"))\n",
    "        if response == 3:\n",
    "            cubic(a,b,c,d)\n",
    "            \n",
    "        else:\n",
    "            e = float(input(\"Enter value of e\"))\n",
    "            quartic(a,b,c,d,e)\n"
   ]
  },
  {
   "cell_type": "code",
   "execution_count": null,
   "id": "0b0eab85-5664-435c-b04e-f92967867a24",
   "metadata": {},
   "outputs": [],
   "source": [
    "main()"
   ]
  },
  {
   "cell_type": "code",
   "execution_count": null,
   "id": "43902aff-dde9-4e1a-94da-9ccbce24798e",
   "metadata": {},
   "outputs": [],
   "source": []
  }
 ],
 "metadata": {
  "kernelspec": {
   "display_name": "Python 3 (ipykernel)",
   "language": "python",
   "name": "python3"
  },
  "language_info": {
   "codemirror_mode": {
    "name": "ipython",
    "version": 3
   },
   "file_extension": ".py",
   "mimetype": "text/x-python",
   "name": "python",
   "nbconvert_exporter": "python",
   "pygments_lexer": "ipython3",
   "version": "3.11.7"
  }
 },
 "nbformat": 4,
 "nbformat_minor": 5
}
