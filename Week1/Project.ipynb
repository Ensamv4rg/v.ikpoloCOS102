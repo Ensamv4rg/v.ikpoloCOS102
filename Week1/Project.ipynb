{
 "cells": [
  {
   "cell_type": "code",
   "execution_count": 3,
   "id": "a82f5189-cae3-49c0-8d36-8f0b0dfeffb2",
   "metadata": {},
   "outputs": [
    {
     "name": "stdin",
     "output_type": "stream",
     "text": [
      "What would you like to calculate. Simple Interest(S), Compound Interest(C), Annuity Plan(A):  f\n"
     ]
    },
    {
     "name": "stdout",
     "output_type": "stream",
     "text": [
      "Invalid selection. Try again\n"
     ]
    },
    {
     "name": "stdin",
     "output_type": "stream",
     "text": [
      "What would you like to calculate. Simple Interest(S), Compound Interest(C), Annuity Plan(A):  f\n"
     ]
    },
    {
     "name": "stdout",
     "output_type": "stream",
     "text": [
      "Invalid selection. Try again\n"
     ]
    },
    {
     "name": "stdin",
     "output_type": "stream",
     "text": [
      "What would you like to calculate. Simple Interest(S), Compound Interest(C), Annuity Plan(A):  f\n"
     ]
    },
    {
     "name": "stdout",
     "output_type": "stream",
     "text": [
      "Invalid selection. Try again\n"
     ]
    },
    {
     "name": "stdin",
     "output_type": "stream",
     "text": [
      "What would you like to calculate. Simple Interest(S), Compound Interest(C), Annuity Plan(A):  f\n"
     ]
    },
    {
     "name": "stdout",
     "output_type": "stream",
     "text": [
      "Invalid selection. Try again\n"
     ]
    },
    {
     "name": "stdin",
     "output_type": "stream",
     "text": [
      "What would you like to calculate. Simple Interest(S), Compound Interest(C), Annuity Plan(A):  f\n"
     ]
    },
    {
     "name": "stdout",
     "output_type": "stream",
     "text": [
      "Invalid selection. Try again\n"
     ]
    },
    {
     "name": "stdin",
     "output_type": "stream",
     "text": [
      "What would you like to calculate. Simple Interest(S), Compound Interest(C), Annuity Plan(A):  c\n",
      "Enter principle:  3\n",
      "Enter rate_in_percentage:  4\n",
      "Enter time:  2\n",
      "Enter frequency:  1\n"
     ]
    },
    {
     "name": "stdout",
     "output_type": "stream",
     "text": [
      "Compound Interest is 1875.0\n"
     ]
    }
   ],
   "source": [
    "def main():\n",
    "    while True:\n",
    "        question = input(\"What would you like to calculate. Simple Interest(S), Compound Interest(C), Annuity Plan(A): \")\n",
    "        \n",
    "        principle, rate_in_percentage, time = 0.0, 0.0, 0.0\n",
    "        variables = [principle, rate_in_percentage, time]\n",
    "        variable_names = [\"principle\", \"rate_in_percentage\", \"time\"]\n",
    "\n",
    "        if question.lower() not in [\"c\", \"a\", \"s\"]:\n",
    "            print(\"Invalid selection. Try again\")\n",
    "            continue\n",
    "        \n",
    "        for index in range(len(variables)):\n",
    "            variables[index] = float(input(\"Enter \" + str(variable_names[index]) + \": \"))\n",
    "\n",
    "            \n",
    "        if question.lower() in [\"c\", \"a\"]:\n",
    "            frequency = int(input(\"Enter frequency: \"))\n",
    "              \n",
    "        match question.lower():\n",
    "            case \"s\":\n",
    "                simple_interest(*variables)\n",
    "            case \"c\":\n",
    "                compound_interest(*variables, frequency)\n",
    "            case \"a\":\n",
    "                annuity_plan(*variables, frequency)\n",
    "            case _:\n",
    "                error()\n",
    "        break  \n",
    "\n",
    "def simple_interest(principle: float, rate: float, time: float):\n",
    "    print(\"Simple interest is \" + str(principle * (1 + (rate * time))))\n",
    "\n",
    "def compound_interest(principle: float, rate: float, time: float, frequency: int):\n",
    "    print(\"Compound Interest is \" + str(principle * (1 + (rate / frequency))**(frequency * rate)))\n",
    "\n",
    "def annuity_plan(principle: float, rate: float, time: float, frequency: int):\n",
    "    print(\"Annuity is \" + str(((rate / frequency)**(frequency * rate) - 1) / (rate / frequency)))\n",
    "\n",
    "def error():\n",
    "    print(\"Invalid selection. Try again\")\n",
    "\n",
    "main()\n"
   ]
  },
  {
   "cell_type": "code",
   "execution_count": null,
   "id": "a7d02f29-4f8b-4794-aedf-0e2e7ec54139",
   "metadata": {},
   "outputs": [],
   "source": []
  }
 ],
 "metadata": {
  "kernelspec": {
   "display_name": "Python 3 (ipykernel)",
   "language": "python",
   "name": "python3"
  },
  "language_info": {
   "codemirror_mode": {
    "name": "ipython",
    "version": 3
   },
   "file_extension": ".py",
   "mimetype": "text/x-python",
   "name": "python",
   "nbconvert_exporter": "python",
   "pygments_lexer": "ipython3",
   "version": "3.11.7"
  }
 },
 "nbformat": 4,
 "nbformat_minor": 5
}
