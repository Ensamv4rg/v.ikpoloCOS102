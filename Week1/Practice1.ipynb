{
 "cells": [
  {
   "cell_type": "code",
   "execution_count": null,
   "id": "fd8f588d-1b7d-4a9c-b729-36d7c9a3d431",
   "metadata": {},
   "outputs": [],
   "source": [
    "num = 100\n",
    "print(num)\n",
    "print(\"Data type of variable num is\", type(num))\n",
    "\n",
    "fnum = 34.45\n",
    "print(fnum)\n",
    "print(\"Data Type of Variable fnum is\", type(fnum))\n",
    "\n",
    "cnum = 3 +4j\n",
    "print(cnum)\n",
    "print(\"Data Type of variable cnum is,\", type(cnum))"
   ]
  }
 ],
 "metadata": {
  "kernelspec": {
   "display_name": "Python 3 (ipykernel)",
   "language": "python",
   "name": "python3"
  },
  "language_info": {
   "codemirror_mode": {
    "name": "ipython",
    "version": 3
   },
   "file_extension": ".py",
   "mimetype": "text/x-python",
   "name": "python",
   "nbconvert_exporter": "python",
   "pygments_lexer": "ipython3",
   "version": "3.11.7"
  }
 },
 "nbformat": 4,
 "nbformat_minor": 5
}
